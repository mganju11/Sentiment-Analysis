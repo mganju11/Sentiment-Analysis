{
 "cells": [
  {
   "cell_type": "code",
   "execution_count": null,
   "metadata": {},
   "outputs": [
    {
     "ename": "",
     "evalue": "",
     "output_type": "error",
     "traceback": [
      "\u001b[1;31mRunning cells with 'Python 3.11.9' requires the ipykernel package.\n",
      "\u001b[1;31mRun the following command to install 'ipykernel' into the Python environment. \n",
      "\u001b[1;31mCommand: 'c:/Users/MehakGanju/AppData/Local/Microsoft/WindowsApps/python3.11.exe -m pip install ipykernel -U --user --force-reinstall'"
     ]
    }
   ],
   "source": [
    "# import libraries\n",
    "import requests\n",
    "import pandas as pd\n",
    "from bs4 import BeautifulSoup\n",
    "from tqdm import tqdm\n",
    "import cloudscraper\n",
    "import urllib.request"
   ]
  },
  {
   "cell_type": "code",
   "execution_count": null,
   "metadata": {},
   "outputs": [],
   "source": [
    "def read_cloud(link):\n",
    "    scraper = cloudscraper.create_scraper()\n",
    "    response = scraper.get(link)\n",
    "    return(BeautifulSoup(response.text, 'html'))"
   ]
  },
  {
   "cell_type": "code",
   "execution_count": null,
   "metadata": {},
   "outputs": [],
   "source": [
    "base_url = 'https://www.rottentomatoes.com/'\n",
    "\n",
    "\n",
    "# language detection not good here, reviews are dumped in 1 cell, also true for language translation\n",
    "# collect films that have both critic and audience review scores\n",
    "\n",
    "drama_collected_links = ['https://www.rottentomatoes.com/m/four_daughters_2023',\n",
    "                         'https://www.rottentomatoes.com/m/the_taste_of_things',\n",
    "                   'https://www.rottentomatoes.com/m/killers_of_the_flower_moon',\n",
    "                   'https://www.rottentomatoes.com/m/our_son',\n",
    "                   'https://www.rottentomatoes.com/m/priscilla',\n",
    "                   'https://www.rottentomatoes.com/m/oppenheimer_2023',\n",
    "                   'https://www.rottentomatoes.com/m/napoleon_2023',\n",
    "                   'https://www.rottentomatoes.com/m/animal_2023_2',\n",
    "                   'https://www.rottentomatoes.com/m/saltburn',\n",
    "                   'https://www.rottentomatoes.com/m/the_holdovers',\n",
    "                   'https://www.rottentomatoes.com/m/poor_things',\n",
    "                   'https://www.rottentomatoes.com/m/eileen',\n",
    "                   'https://www.rottentomatoes.com/m/dream_scenario',\n",
    "                   'https://www.rottentomatoes.com/m/the_oath_2023',\n",
    "                   'https://www.rottentomatoes.com/m/radical',\n",
    "                   'https://www.rottentomatoes.com/m/scrapper_2023',\n",
    "                   'https://www.rottentomatoes.com/m/fallen_leaves',\n",
    "                   'https://www.rottentomatoes.com/m/the_marsh_kings_daughter',\n",
    "                   'https://www.rottentomatoes.com/m/the_road_dance',\n",
    "                   'https://www.rottentomatoes.com/m/the_three_musketeers_part_i_dartagnan',\n",
    "                   'https://www.rottentomatoes.com/m/the_end_we_start_from',\n",
    "                   'https://www.rottentomatoes.com/m/the_persian_version'\n",
    "                   ]\n",
    "\n",
    "\n",
    "comedy_collected_links = ['https://www.rottentomatoes.com/m/wonka',\n",
    "                          'https://www.rottentomatoes.com/m/trolls_band_together',\n",
    "                          'https://www.rottentomatoes.com/m/wish_2023',\n",
    "                          'https://www.rottentomatoes.com/m/saltburn',\n",
    "                          'https://www.rottentomatoes.com/m/the_holdovers',\n",
    "                          'https://www.rottentomatoes.com/m/poor_things',\n",
    "                          'https://www.rottentomatoes.com/m/dream_scenario',\n",
    "                          'https://www.rottentomatoes.com/m/love_actually',\n",
    "                          'https://www.rottentomatoes.com/m/next_goal_wins_2023',\n",
    "                          'https://www.rottentomatoes.com/m/fallen_leaves',\n",
    "                          'https://www.rottentomatoes.com/m/barbie',\n",
    "                          'https://www.rottentomatoes.com/m/the_persian_version',\n",
    "                          'https://www.rottentomatoes.com/m/scrapper_2023',\n",
    "                          'https://www.rottentomatoes.com/m/waitress_the_musical',\n",
    "                          'https://www.rottentomatoes.com/m/chicken_run_dawn_of_the_nugget'\n",
    "                          ]\n",
    "\n",
    "horror_collected_links = ['https://www.rottentomatoes.com/m/thanksgiving_2023',\n",
    "                          'https://www.rottentomatoes.com/m/dream_scenario',\n",
    "                          'https://www.rottentomatoes.com/m/five_nights_at_freddys',\n",
    "                          'https://www.rottentomatoes.com/m/peeping_tom_1960',\n",
    "                          'https://www.rottentomatoes.com/m/a_creature_was_stirring'\n",
    "                          ]\n",
    "\n",
    "action_collected_links = ['https://www.rottentomatoes.com/m/godzilla_minus_one',\n",
    "                          'https://www.rottentomatoes.com/m/napoleon_2023',\n",
    "                          'https://www.rottentomatoes.com/m/the_hunger_games_the_ballad_of_songbirds_and_snakes',\n",
    "                          'https://www.rottentomatoes.com/m/animal_2023_2',\n",
    "                          'https://www.rottentomatoes.com/m/silent_night_2023',\n",
    "                          'https://www.rottentomatoes.com/m/the_marvels',\n",
    "                          'https://www.rottentomatoes.com/m/die_hard',\n",
    "                          'https://www.rottentomatoes.com/m/the_oath_2023',\n",
    "                          'https://www.rottentomatoes.com/m/fast_charlie',\n",
    "                          'https://www.rottentomatoes.com/m/concrete_utopia',\n",
    "                          'https://www.rottentomatoes.com/m/indiana_jones_and_the_dial_of_destiny'\n",
    "                          ]"
   ]
  },
  {
   "cell_type": "code",
   "execution_count": null,
   "metadata": {},
   "outputs": [],
   "source": [
    "https://github.com/szilvasipeter2000/Web_Scraping/blob/main/RottenTomato_Sentiment%20Analysis/scrape.ipynb\n",
    "https://medium.com/@szilvasipeter2000/aws-sentiment-analysis-for-rotten-tomatoes-movie-reviews-0ab5bc7b94f2"
   ]
  }
 ],
 "metadata": {
  "kernelspec": {
   "display_name": "Python 3",
   "language": "python",
   "name": "python3"
  },
  "language_info": {
   "codemirror_mode": {
    "name": "ipython",
    "version": 3
   },
   "file_extension": ".py",
   "mimetype": "text/x-python",
   "name": "python",
   "nbconvert_exporter": "python",
   "pygments_lexer": "ipython3",
   "version": "3.11.9"
  }
 },
 "nbformat": 4,
 "nbformat_minor": 2
}
